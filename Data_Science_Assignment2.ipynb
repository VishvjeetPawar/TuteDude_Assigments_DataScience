{
 "cells": [
  {
   "cell_type": "markdown",
   "id": "990bfbf0-e3d6-4750-8b03-8cf4c91e67c6",
   "metadata": {},
   "source": [
    "#Basics of Probability"
   ]
  },
  {
   "cell_type": "markdown",
   "id": "ba38022f-53d5-4e01-8118-c2c5b6b716ae",
   "metadata": {},
   "source": [
    "1. Write a Python program to simulate the following scenarios:  \n",
    "  a. Tossing a coin 10,000 times and calculating the experimental probability of heads and tails.\n"
   ]
  },
  {
   "cell_type": "code",
   "execution_count": null,
   "id": "6d603b3a-b1d3-48bc-af70-72246cb8e0bb",
   "metadata": {},
   "outputs": [],
   "source": [
    "import random\n",
    "\n",
    "trials_coin = 10000\n",
    "heads = 0\n",
    "tails = 0\n",
    "for _ in range(trials_coin):\n",
    "    if random.choice([\"H\", \"T\"]) == \"H\":\n",
    "        heads += 1\n",
    "    else:\n",
    "        tails += 1\n",
    "prob_heads = heads / trials_coin\n",
    "prob_tails = tails / trials_coin\n",
    "print(\"Coin Toss Simulation:\")\n",
    "print(\"Probability of Heads:\", prob_heads)\n",
    "print(\"Probability of Tails:\", prob_tails)"
   ]
  },
  {
   "cell_type": "markdown",
   "id": "950efe03-99d4-40eb-807e-99b68ad57b06",
   "metadata": {},
   "source": [
    "Explanation:\n",
    "We toss a coin 10,000 times.\n",
    "Each toss randomly picks \"H\" or \"T\".\n",
    "The counts of heads and tails are stored.\n",
    "Their probabilities are calculated by dividing counts by total trials."
   ]
  },
  {
   "cell_type": "markdown",
   "id": "3a61d4cc-3fef-4690-a451-754ec557a9f2",
   "metadata": {},
   "source": [
    "b. Rolling two dice and computing the probability of getting a sum of 7."
   ]
  },
  {
   "cell_type": "code",
   "execution_count": null,
   "id": "95da8309-1988-4a05-a397-d19d3b79df77",
   "metadata": {},
   "outputs": [],
   "source": [
    "import random\n",
    "\n",
    "trials_dice = 10000\n",
    "sum_seven = 0\n",
    "for _ in range(trials_dice):\n",
    "    die1 = random.randint(1, 6)\n",
    "    die2 = random.randint(1, 6)\n",
    "    if die1 + die2 == 7:\n",
    "        sum_seven += 1\n",
    "prob_sum_seven = sum_seven / trials_dice\n",
    "print(\"Dice Roll Simulation:\")\n",
    "print(\"Probability of Sum = 7:\", prob_sum_seven)"
   ]
  },
  {
   "cell_type": "markdown",
   "id": "b57e9033-171b-41bb-acec-52038074599a",
   "metadata": {},
   "source": [
    "Explanation:\n",
    "We roll two dice 10,000 times.\n",
    "Each die gives a random number from 1 to 6.\n",
    "If the sum of both dice equals 7, we increase the counter.\n",
    "The probability is computed as successful outcomes divided by total trials."
   ]
  },
  {
   "cell_type": "markdown",
   "id": "b4d8a954-71c9-4bb2-85d8-260185ead237",
   "metadata": {},
   "source": [
    "2. Write a function to estimate the probability of getting at least one \"6\" in 10 rolls of a fair die."
   ]
  },
  {
   "cell_type": "code",
   "execution_count": null,
   "id": "4d2abba5-3b55-4e9c-a5fc-c671a3444dba",
   "metadata": {},
   "outputs": [],
   "source": [
    "import random\n",
    "\n",
    "def probability_one_six(trials):\n",
    "    success = 0\n",
    "    for _ in range(trials):\n",
    "        got_six = False\n",
    "        for _ in range(10):\n",
    "            if random.randint(1, 6) == 6:\n",
    "                got_six = True\n",
    "        if got_six:\n",
    "            success += 1\n",
    "    return success / trials\n",
    "\n",
    "print(\"Estimated Probability:\", probability_one_six(10000))\n"
   ]
  },
  {
   "cell_type": "markdown",
   "id": "2c80ca64-9447-4b1f-8447-b92438b23d2d",
   "metadata": {},
   "source": [
    "Explanation:\n",
    "Function probability_one_six(trials) runs the experiment many times.\n",
    "In each trial, we roll the die 10 times.\n",
    "A flag got_six checks if at least one roll is a 6.\n",
    "If yes, that trial is counted as a success.\n",
    "At the end, the probability = (successful trials) ÷ (total trials).\n",
    "This probability should be close to the theoretical value:1-(5/6)^10\n"
   ]
  },
  {
   "cell_type": "markdown",
   "id": "e2336360-86ec-4ab2-b5bc-ffca1cab9cbf",
   "metadata": {},
   "source": [
    "#Conditional Probability and Bayes' Theorem\n"
   ]
  },
  {
   "cell_type": "markdown",
   "id": "4944bb00-39be-44ce-89d1-a9170785b1ae",
   "metadata": {},
   "source": [
    "3. A bag contains 5 red, 7 green, and 8 blue balls. A ball is drawn randomly, its color noted, and it is put back into the bag. If this process is repeated 1000 times, write a Python program to estimate:  \n",
    "  a. The probability of drawing a red ball given that the previous ball was blue.\n"
   ]
  },
  {
   "cell_type": "code",
   "execution_count": null,
   "id": "7250f450-5e10-4137-a4fa-2e3412a94c7a",
   "metadata": {},
   "outputs": [],
   "source": [
    "import random\n",
    "\n",
    "trials = 1000\n",
    "colors = [\"R\"]*5 + [\"G\"]*7 + [\"B\"]*8\n",
    "\n",
    "red_after_blue = 0\n",
    "blue_count = 0\n",
    "\n",
    "sequence = []\n",
    "for _ in range(trials):\n",
    "    sequence.append(random.choice(colors))\n",
    "\n",
    "for i in range(1, trials):\n",
    "    if sequence[i-1] == \"B\":\n",
    "        blue_count += 1\n",
    "        if sequence[i] == \"R\":\n",
    "            red_after_blue += 1\n",
    "\n",
    "p_red_given_blue = red_after_blue / blue_count if blue_count > 0 else 0\n",
    "print(\"Estimated P(Red | Blue):\", p_red_given_blue)\n"
   ]
  },
  {
   "cell_type": "code",
   "execution_count": null,
   "id": "de53cd3f-d3da-4a1a-9d01-9a502b93ff90",
   "metadata": {},
   "outputs": [],
   "source": [
    "Explanation:\n",
    "We simulate 1000 draws with replacement.\n",
    "Each draw is \"R\", \"G\", or \"B\" according to bag composition.\n",
    "We look at cases where the previous ball was blue.\n",
    "Among those, we count how often the next ball is red.\n",
    "That ratio gives the estimated P(Red | Blue)."
   ]
  },
  {
   "cell_type": "markdown",
   "id": "f2df5459-651a-4815-9d33-441263532b44",
   "metadata": {},
   "source": [
    "  b. Verify Bayes' theorem with the simulation results. "
   ]
  },
  {
   "cell_type": "code",
   "execution_count": null,
   "id": "1e9a6611-c442-4928-ac90-e7881104ce3d",
   "metadata": {},
   "outputs": [],
   "source": [
    "import random\n",
    "\n",
    "trials = 1000\n",
    "colors = [\"R\"]*5 + [\"G\"]*7 + [\"B\"]*8\n",
    "\n",
    "sequence = []\n",
    "for _ in range(trials):\n",
    "    sequence.append(random.choice(colors))\n",
    "\n",
    "p_red = sequence.count(\"R\") / trials\n",
    "p_blue = sequence.count(\"B\") / trials\n",
    "\n",
    "p_blue_given_red = 0\n",
    "red_count = sequence.count(\"R\")\n",
    "for i in range(1, trials):\n",
    "    if sequence[i-1] == \"R\" and sequence[i] == \"B\":\n",
    "        p_blue_given_red += 1\n",
    "p_blue_given_red = p_blue_given_red / red_count if red_count > 0 else 0\n",
    "\n",
    "bayes_check = (p_blue_given_red * p_red) / p_blue if p_blue > 0 else 0\n",
    "print(\"Bayes Theorem Result (P(Red | Blue)):\", bayes_check)\n"
   ]
  },
  {
   "cell_type": "markdown",
   "id": "d492f375-ab8d-4d50-82bd-77d768090273",
   "metadata": {},
   "source": [
    "Explanation:\n",
    "We estimate:\n",
    " P(R) = overall fraction of red draws.\n",
    " P(B) = overall fraction of blue draws.\n",
    " P(B|R) = probability next ball is blue given previous was red.\n",
    "Bayes’ theorem formula:P(R|B)=P(B|R).P(R)/P(B)\n",
    "We calculate RHS from simulated values to verify it matches the earlier P(Red | Blue)."
   ]
  },
  {
   "cell_type": "markdown",
   "id": "dc03cc2d-bfe9-4bbe-b7ea-5905d032f58b",
   "metadata": {},
   "source": [
    "#Random Variables and Discrete Probability\n"
   ]
  },
  {
   "cell_type": "markdown",
   "id": "c3226546-5dd0-4763-bbf3-23b9041112ef",
   "metadata": {},
   "source": [
    "4. Generate a sample of size 1000 from a discrete random variable with the following distribution:  \n",
    "  - P(X=1) = 0.25  \n",
    "  - P(X=2) = 0.35  \n",
    "  - P(X=3) = 0.4  \n",
    "  Compute the empirical mean, variance, and standard deviation of the sample.  \n",
    "  \n"
   ]
  },
  {
   "cell_type": "code",
   "execution_count": null,
   "id": "d92b8aae-daa3-4167-b1e4-a7d7b5de8dff",
   "metadata": {},
   "outputs": [],
   "source": [
    "import numpy as np\n",
    "\n",
    "np.random.seed(42)\n",
    "values = np.array([1, 2, 3])\n",
    "probs = np.array([0.25, 0.35, 0.40])\n",
    "sample = np.random.choice(values, size=1000, p=probs)\n",
    "\n",
    "emp_mean = np.mean(sample)\n",
    "emp_var_pop = np.var(sample)\n",
    "emp_std_pop = np.std(sample)\n",
    "\n",
    "print(\"Empirical Mean:\", emp_mean)\n",
    "print(\"Empirical Variance (ddof=0):\", emp_var_pop)\n",
    "print(\"Empirical Std Dev (ddof=0):\", emp_std_pop)\n"
   ]
  },
  {
   "cell_type": "code",
   "execution_count": null,
   "id": "31d7feb9-5475-4b77-bce1-5c692f990325",
   "metadata": {},
   "outputs": [],
   "source": [
    "Explanation:\n",
    "We define the variable’s support values = [1,2,3] and probabilities [0.25, 0.35, 0.40].\n",
    "We generate 1000 draws using np.random.choice with the given probability vector.\n",
    "We compute the empirical mean, variance, and standard deviation with NumPy’s mean, var, and std (population versions, ddof=0). If you want the sample variance/STD, use np.var(sample, ddof=1) and np.std(sample, ddof=1)."
   ]
  },
  {
   "cell_type": "markdown",
   "id": "3a851c4a-7c7a-4f41-bc81-ce69b1fd4eef",
   "metadata": {},
   "source": [
    "#Continuous Random Variables"
   ]
  },
  {
   "cell_type": "markdown",
   "id": "21e925b2-0a33-4a0a-8e09-e42179c4e306",
   "metadata": {},
   "source": [
    "5. Simulate 2000 random samples from an exponential distribution with a mean of 5. Visualize the distribution using:  \n",
    "  a. A histogram.  \n",
    "  b. A probability density function (PDF) overlay.  \n",
    "  \n",
    "\n"
   ]
  },
  {
   "cell_type": "code",
   "execution_count": null,
   "id": "3e3ecec3-5d62-48ce-8034-fdfb94960c96",
   "metadata": {},
   "outputs": [],
   "source": [
    "import numpy as np\n",
    "import matplotlib.pyplot as plt\n",
    "\n",
    "np.random.seed(42)\n",
    "mean = 5\n",
    "samples = np.random.exponential(scale=mean, size=2000)\n",
    "\n",
    "count, bins, _ = plt.hist(samples, bins=30, density=True, alpha=0.6, edgecolor=\"black\")\n",
    "\n",
    "x = np.linspace(0, np.max(samples), 1000)\n",
    "pdf = (1/mean) * np.exp(-x/mean)\n",
    "\n",
    "plt.plot(x, pdf, 'r', linewidth=2)\n",
    "plt.title(\"Exponential Distribution (mean = 5)\")\n",
    "plt.xlabel(\"Value\")\n",
    "plt.ylabel(\"Density\")\n",
    "plt.show()\n"
   ]
  },
  {
   "cell_type": "code",
   "execution_count": null,
   "id": "a0ab5890-7872-42c2-adb2-7e9d5fa29675",
   "metadata": {},
   "outputs": [],
   "source": [
    "Explanation:\n",
    "We use np.random.exponential(scale=mean, size=2000) to generate 2000 random samples from an exponential distribution with mean = 5.\n",
    "A histogram with density=True shows the empirical distribution.\n",
    "The theoretical PDF is f(x)=1/5e^-x/5\n",
    "We overlay this PDF curve on the histogram to compare theory with simulation."
   ]
  },
  {
   "cell_type": "markdown",
   "id": "d420c38f-f76e-417d-857f-a45ce46ed06c",
   "metadata": {},
   "source": [
    "#Central Limit Theorem\n"
   ]
  },
  {
   "cell_type": "markdown",
   "id": "d47f5916-c529-4de7-8fc2-40c54ad7e933",
   "metadata": {},
   "source": [
    "6. Simulate the Central Limit Theorem by following these steps  \n",
    "  a. Generate 10,000 random numbers from a uniform distribution.  \n",
    "  b. Draw 1000 samples of size n = 30.  \n",
    "  c. Calculate and visualize the distribution of sample means.\n"
   ]
  },
  {
   "cell_type": "code",
   "execution_count": null,
   "id": "5cbc33a1-911d-4af9-8fdc-0dfcb6aba320",
   "metadata": {},
   "outputs": [],
   "source": [
    "import numpy as np\n",
    "import matplotlib.pyplot as plt\n",
    "\n",
    "np.random.seed(42)\n",
    "\n",
    "data = np.random.uniform(0, 1, 10000)\n",
    "\n",
    "n = 30\n",
    "num_samples = 1000\n",
    "sample_means = []\n",
    "\n",
    "for _ in range(num_samples):\n",
    "    sample = np.random.choice(data, size=n, replace=True)\n",
    "    sample_means.append(np.mean(sample))\n",
    "\n",
    "plt.figure(figsize=(12,5))\n",
    "\n",
    "plt.subplot(1,2,1)\n",
    "plt.hist(data, bins=30, density=True, alpha=0.7, edgecolor=\"black\")\n",
    "plt.title(\"Uniform Distribution (0,1)\")\n",
    "plt.xlabel(\"Value\")\n",
    "plt.ylabel(\"Density\")\n",
    "\n",
    "plt.subplot(1,2,2)\n",
    "plt.hist(sample_means, bins=30, density=True, alpha=0.7, edgecolor=\"black\")\n",
    "plt.title(\"Distribution of Sample Means (n=30)\")\n",
    "plt.xlabel(\"Sample Mean\")\n",
    "plt.ylabel(\"Density\")\n",
    "\n",
    "plt.tight_layout()\n",
    "plt.show()\n"
   ]
  },
  {
   "cell_type": "code",
   "execution_count": null,
   "id": "f754ff51-d758-4007-a2dd-93c044a49d39",
   "metadata": {},
   "outputs": [],
   "source": [
    "Explanation:\n",
    "Step A: We generate 10,000 random numbers from Uniform(0,1).\n",
    "Step B: We repeatedly draw 1000 samples, each of size n=30.\n",
    "Step C: For each sample, we compute the mean and store it.\n",
    "The first plot shows the original uniform distribution (flat shape).\n",
    "The second plot shows the distribution of sample means, which becomes approximately normal — illustrating the Central Limit Theorem."
   ]
  }
 ],
 "metadata": {
  "kernelspec": {
   "display_name": "Python 3 (ipykernel)",
   "language": "python",
   "name": "python3"
  },
  "language_info": {
   "codemirror_mode": {
    "name": "ipython",
    "version": 3
   },
   "file_extension": ".py",
   "mimetype": "text/x-python",
   "name": "python",
   "nbconvert_exporter": "python",
   "pygments_lexer": "ipython3",
   "version": "3.12.7"
  }
 },
 "nbformat": 4,
 "nbformat_minor": 5
}
