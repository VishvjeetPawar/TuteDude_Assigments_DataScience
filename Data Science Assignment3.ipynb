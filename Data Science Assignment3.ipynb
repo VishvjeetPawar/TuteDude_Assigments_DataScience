{
 "cells": [
  {
   "cell_type": "markdown",
   "id": "d72e582e-498c-4d60-8660-f381a759220f",
   "metadata": {},
   "source": [
    "#Assignment 1 - Working with NumPy\n"
   ]
  },
  {
   "cell_type": "markdown",
   "id": "00e6afe3-c0b2-4eb1-9109-437b85cf18ab",
   "metadata": {},
   "source": [
    "1. Create a 1D NumPy array with integers from 1 to 20. Perform the following operations:  \n",
    "  a. Calculate the sum, mean, median, and standard deviation of the elements in the array.  \n",
    "  b. Find the indices of elements greater than 10 in the array.\n"
   ]
  },
  {
   "cell_type": "code",
   "execution_count": 1,
   "id": "f921008a-4f79-4e7c-996e-93d608a207b9",
   "metadata": {},
   "outputs": [
    {
     "name": "stdout",
     "output_type": "stream",
     "text": [
      "Array: [ 1  2  3  4  5  6  7  8  9 10 11 12 13 14 15 16 17 18 19 20]\n",
      "Sum: 210\n",
      "Mean: 10.5\n",
      "Median: 10.5\n",
      "Standard Deviation: 5.766281297335398\n",
      "Indices of elements > 10: (array([10, 11, 12, 13, 14, 15, 16, 17, 18, 19], dtype=int64),)\n"
     ]
    }
   ],
   "source": [
    "import numpy as np\n",
    "arr = np.arange(1, 21)\n",
    "arr_sum = np.sum(arr)\n",
    "arr_mean = np.mean(arr)\n",
    "arr_median = np.median(arr)\n",
    "arr_std = np.std(arr)\n",
    "\n",
    "indices = np.where(arr > 10)\n",
    "\n",
    "print(\"Array:\", arr)\n",
    "print(\"Sum:\", arr_sum)\n",
    "print(\"Mean:\", arr_mean)\n",
    "print(\"Median:\", arr_median)\n",
    "print(\"Standard Deviation:\", arr_std)\n",
    "print(\"Indices of elements > 10:\", indices)\n"
   ]
  },
  {
   "cell_type": "code",
   "execution_count": null,
   "id": "5b724264-00b0-4be3-b6c1-c31ac1c2ed48",
   "metadata": {},
   "outputs": [],
   "source": [
    "Explanation\n",
    "We use np.arange(1, 21) to create an array from 1 to 20.\n",
    "np.sum, np.mean, np.median, and np.std calculate summary statistics.\n",
    "np.where(arr > 10) finds indices of elements greater than 10."
   ]
  },
  {
   "cell_type": "markdown",
   "id": "d346a4d5-960d-4a58-b513-05cd95ffb3a3",
   "metadata": {},
   "source": [
    "2. Create a 2D NumPy array of shape 4 X 4 with numbers ranging from 1 to 16.  \n",
    "  a. Print the array.  \n",
    "  b. Find the transpose of the array.  \n",
    "  c. Calculate the row-wise and column-wise sums of the array.\n"
   ]
  },
  {
   "cell_type": "code",
   "execution_count": 2,
   "id": "eab43852-af56-4bc4-9912-6baa6cc00679",
   "metadata": {},
   "outputs": [
    {
     "name": "stdout",
     "output_type": "stream",
     "text": [
      "2D Array:\n",
      " [[ 1  2  3  4]\n",
      " [ 5  6  7  8]\n",
      " [ 9 10 11 12]\n",
      " [13 14 15 16]]\n",
      "\n",
      "Transpose:\n",
      " [[ 1  5  9 13]\n",
      " [ 2  6 10 14]\n",
      " [ 3  7 11 15]\n",
      " [ 4  8 12 16]]\n",
      "\n",
      "Row-wise sum: [10 26 42 58]\n",
      "Column-wise sum: [28 32 36 40]\n"
     ]
    }
   ],
   "source": [
    "arr2d = np.arange(1, 17).reshape(4, 4)\n",
    "print(\"2D Array:\\n\", arr2d)\n",
    "\n",
    "transpose = arr2d.T\n",
    "print(\"\\nTranspose:\\n\", transpose)\n",
    "\n",
    "row_sum = np.sum(arr2d, axis=1)\n",
    "col_sum = np.sum(arr2d, axis=0)\n",
    "\n",
    "print(\"\\nRow-wise sum:\", row_sum)\n",
    "print(\"Column-wise sum:\", col_sum)\n"
   ]
  },
  {
   "cell_type": "code",
   "execution_count": null,
   "id": "31ef3e8d-bf7f-4918-8bff-68f0855baf92",
   "metadata": {},
   "outputs": [],
   "source": [
    "Explanation\n",
    ".reshape(4, 4) converts a 1D array into a 4×4 matrix.\n",
    ".T or np.transpose() gets the transpose.\n",
    "axis=1 → row-wise, axis=0 → column-wise summation."
   ]
  },
  {
   "cell_type": "markdown",
   "id": "7aacef9e-b627-401e-b48f-75a4f0ff02d0",
   "metadata": {},
   "source": [
    "3. Create two 3 X 3 arrays filled with random integers between 1 and 20.  \n",
    "  a. Perform element-wise addition, subtraction, and multiplication.  \n",
    "  b. Compute the dot product of the two arrays.\n"
   ]
  },
  {
   "cell_type": "code",
   "execution_count": 3,
   "id": "e9d1d61a-c405-4841-85d6-605158a79516",
   "metadata": {},
   "outputs": [
    {
     "name": "stdout",
     "output_type": "stream",
     "text": [
      "Array A:\n",
      " [[17 18 10]\n",
      " [ 1 18 20]\n",
      " [ 6 10 11]]\n",
      "\n",
      "Array B:\n",
      " [[18  3  5]\n",
      " [12 13  6]\n",
      " [ 3 12  3]]\n",
      "\n",
      "Element-wise Addition:\n",
      " [[35 21 15]\n",
      " [13 31 26]\n",
      " [ 9 22 14]]\n",
      "\n",
      "Element-wise Subtraction:\n",
      " [[ -1  15   5]\n",
      " [-11   5  14]\n",
      " [  3  -2   8]]\n",
      "\n",
      "Element-wise Multiplication:\n",
      " [[306  54  50]\n",
      " [ 12 234 120]\n",
      " [ 18 120  33]]\n",
      "\n",
      "Dot Product:\n",
      " [[552 405 223]\n",
      " [294 477 173]\n",
      " [261 280 123]]\n"
     ]
    }
   ],
   "source": [
    "a = np.random.randint(1, 21, (3, 3))\n",
    "b = np.random.randint(1, 21, (3, 3))\n",
    "add = a + b\n",
    "sub = a - b\n",
    "mul = a * b\n",
    "\n",
    "dot = np.dot(a, b)\n",
    "print(\"Array A:\\n\", a)\n",
    "print(\"\\nArray B:\\n\", b)\n",
    "print(\"\\nElement-wise Addition:\\n\", add)\n",
    "print(\"\\nElement-wise Subtraction:\\n\", sub)\n",
    "print(\"\\nElement-wise Multiplication:\\n\", mul)\n",
    "print(\"\\nDot Product:\\n\", dot)\n"
   ]
  },
  {
   "cell_type": "code",
   "execution_count": null,
   "id": "f469534e-8ff9-4e4f-bda2-559089c45fbf",
   "metadata": {},
   "outputs": [],
   "source": [
    "Explanation\n",
    "np.random.randint(1, 21, (3,3)) generates random integers in range [1,20].\n",
    "Element-wise arithmetic is done with +, -, *.\n",
    "np.dot(a, b) computes matrix multiplication."
   ]
  },
  {
   "cell_type": "markdown",
   "id": "e1fa809b-b604-449d-a419-1b6ee1927526",
   "metadata": {},
   "source": [
    "4. Reshape a 1D array of size 12 into a 3 X 4 2D array and slice the first two rows and last two columns."
   ]
  },
  {
   "cell_type": "code",
   "execution_count": 4,
   "id": "8b5edd8d-8e51-4dc6-ae6b-cf4f4dd40721",
   "metadata": {},
   "outputs": [
    {
     "name": "stdout",
     "output_type": "stream",
     "text": [
      "Original 1D Array: [ 1  2  3  4  5  6  7  8  9 10 11 12]\n",
      "\n",
      "Reshaped 3x4 Array:\n",
      " [[ 1  2  3  4]\n",
      " [ 5  6  7  8]\n",
      " [ 9 10 11 12]]\n",
      "\n",
      "Sliced (first 2 rows, last 2 columns):\n",
      " [[3 4]\n",
      " [7 8]]\n"
     ]
    }
   ],
   "source": [
    "arr12 = np.arange(1, 13)\n",
    "\n",
    "arr_reshaped = arr12.reshape(3, 4)\n",
    "\n",
    "sliced = arr_reshaped[:2, -2:]\n",
    "\n",
    "print(\"Original 1D Array:\", arr12)\n",
    "print(\"\\nReshaped 3x4 Array:\\n\", arr_reshaped)\n",
    "print(\"\\nSliced (first 2 rows, last 2 columns):\\n\", sliced)\n"
   ]
  },
  {
   "cell_type": "code",
   "execution_count": null,
   "id": "0cc9d3c0-35e5-46d4-bf21-b355ad842233",
   "metadata": {},
   "outputs": [],
   "source": [
    "Explanation\n",
    "np.arange(1, 13) creates numbers 1–12.\n",
    ".reshape(3, 4) changes it to a 3×4 matrix.\n",
    "[:2, -2:] selects first two rows (:2) and last two columns (-2:)."
   ]
  },
  {
   "cell_type": "code",
   "execution_count": null,
   "id": "35e2e0c8-9bbe-4720-919d-6db8e87f7109",
   "metadata": {},
   "outputs": [],
   "source": []
  },
  {
   "cell_type": "markdown",
   "id": "a9fa369f-e14b-49c2-9b0c-66d1ad328831",
   "metadata": {},
   "source": [
    "#Assignment 2 - Working with Pandas"
   ]
  },
  {
   "cell_type": "markdown",
   "id": "a553316a-fd66-4c97-9817-9bc07cf0d6d9",
   "metadata": {},
   "source": [
    "1. Create a DataFrame with the following data:  \n",
    "  \n",
    "\n",
    "\n",
    "  data = {\n",
    "      'Name': ['Alice', 'Bob', 'Charlie', 'Diana', 'Eve'],\n",
    "      'Age': [24, 27, 22, 32, 29],\n",
    "      'Department': ['HR', 'Finance', 'IT', 'Marketing', 'HR'],\n",
    "      'Salary': [45000, 54000, 50000, 62000, 47000]\n",
    "  }\n",
    "  a. Print the first five rows of the DataFrame.  \n",
    "  \n"
   ]
  },
  {
   "cell_type": "code",
   "execution_count": 5,
   "id": "c9003c13-07a0-4384-9097-1a1e69b914cc",
   "metadata": {},
   "outputs": [
    {
     "name": "stdout",
     "output_type": "stream",
     "text": [
      "      Name  Age Department  Salary\n",
      "0    Alice   24         HR   45000\n",
      "1      Bob   27    Finance   54000\n",
      "2  Charlie   22         IT   50000\n",
      "3    Diana   32  Marketing   62000\n",
      "4      Eve   29         HR   47000\n"
     ]
    }
   ],
   "source": [
    "import pandas as pd\n",
    "data = {\n",
    "    'Name': ['Alice', 'Bob', 'Charlie', 'Diana', 'Eve'],\n",
    "    'Age': [24, 27, 22, 32, 29],\n",
    "    'Department': ['HR', 'Finance', 'IT', 'Marketing', 'HR'],\n",
    "    'Salary': [45000, 54000, 50000, 62000, 47000]\n",
    "}\n",
    "\n",
    "df = pd.DataFrame(data)\n",
    "print(df.head())"
   ]
  },
  {
   "cell_type": "code",
   "execution_count": null,
   "id": "fd3fd7b0-ffb4-4d44-a815-f771da16f746",
   "metadata": {},
   "outputs": [],
   "source": [
    "Explanation:\n",
    "The .head() function shows the first 5 rows of the DataFrame. \n",
    "This is useful to quickly check whether the data has been loaded correctly."
   ]
  },
  {
   "cell_type": "markdown",
   "id": "27dce764-65da-41b1-b344-f9cde5a62847",
   "metadata": {},
   "source": [
    "b. Get the summary statistics of the 'Age' and 'Salary' columns."
   ]
  },
  {
   "cell_type": "code",
   "execution_count": 6,
   "id": "ad2afb0d-d3fc-47f6-88f4-69d2cd049a0d",
   "metadata": {},
   "outputs": [
    {
     "name": "stdout",
     "output_type": "stream",
     "text": [
      "             Age        Salary\n",
      "count   5.000000      5.000000\n",
      "mean   26.800000  51600.000000\n",
      "std     3.962323   6730.527468\n",
      "min    22.000000  45000.000000\n",
      "25%    24.000000  47000.000000\n",
      "50%    27.000000  50000.000000\n",
      "75%    29.000000  54000.000000\n",
      "max    32.000000  62000.000000\n"
     ]
    }
   ],
   "source": [
    "print(df[['Age', 'Salary']].describe())"
   ]
  },
  {
   "cell_type": "code",
   "execution_count": null,
   "id": "d8af7ddc-3b27-495d-9c00-73ad8135f141",
   "metadata": {},
   "outputs": [],
   "source": [
    "Explanation:\n",
    "df[['Age', 'Salary']] selects only the Age and Salary columns.\n",
    ".describe() calculates important summary statistics like:\n",
    "count → number of values\n",
    "mean → average\n",
    "std → standard deviation\n",
    "min → minimum value\n",
    "25%, 50%, 75% → quartiles\n",
    "max → maximum value"
   ]
  },
  {
   "cell_type": "markdown",
   "id": "ab8330b7-d770-41ec-9aac-f6db487db16f",
   "metadata": {},
   "source": [
    "c. Calculate the average salary of employees in the 'HR' department."
   ]
  },
  {
   "cell_type": "code",
   "execution_count": 7,
   "id": "b827adb3-6574-4668-b80d-fb89a3a8195c",
   "metadata": {},
   "outputs": [
    {
     "name": "stdout",
     "output_type": "stream",
     "text": [
      "Average Salary in HR Department: 46000.0\n"
     ]
    }
   ],
   "source": [
    "avg_hr_salary = df[df['Department'] == 'HR']['Salary'].mean()\n",
    "print(\"Average Salary in HR Department:\", avg_hr_salary)"
   ]
  },
  {
   "cell_type": "code",
   "execution_count": null,
   "id": "a6446cf6-a205-47a8-be8c-4c7d1e56ba21",
   "metadata": {},
   "outputs": [],
   "source": [
    "Explanation:\n",
    "df['Department'] == 'HR' creates a filter that is True for rows where the department is HR.\n",
    "df[df['Department'] == 'HR'] selects only those rows.\n",
    "From those rows, we take the Salary column and apply .mean() to calculate the average."
   ]
  },
  {
   "cell_type": "markdown",
   "id": "ec883990-545f-41bc-b53c-de4e725db5af",
   "metadata": {},
   "source": [
    "2. Add a new column, 'Bonus', which is 10% of the salary. "
   ]
  },
  {
   "cell_type": "code",
   "execution_count": 8,
   "id": "79aada74-a63b-4327-8546-ad4d6e10cdba",
   "metadata": {},
   "outputs": [
    {
     "name": "stdout",
     "output_type": "stream",
     "text": [
      "      Name  Age Department  Salary   Bonus\n",
      "0    Alice   24         HR   45000  4500.0\n",
      "1      Bob   27    Finance   54000  5400.0\n",
      "2  Charlie   22         IT   50000  5000.0\n",
      "3    Diana   32  Marketing   62000  6200.0\n",
      "4      Eve   29         HR   47000  4700.0\n"
     ]
    }
   ],
   "source": [
    "df['Bonus'] = df['Salary'] * 0.10\n",
    "print(df)"
   ]
  },
  {
   "cell_type": "code",
   "execution_count": null,
   "id": "0f47765c-a7b8-4d7c-a557-eeabe82a4233",
   "metadata": {},
   "outputs": [],
   "source": [
    "Explanation:\n",
    "We create a new column Bonus.\n",
    "The value of Bonus for each employee is calculated as 10% of their salary.\n",
    "Pandas automatically applies this calculation to each row (vectorized operation)."
   ]
  },
  {
   "cell_type": "markdown",
   "id": "d42d6838-c62d-4117-897f-2dd50e537260",
   "metadata": {},
   "source": [
    "3. Filter the DataFrame to show employees aged between 25 and 30."
   ]
  },
  {
   "cell_type": "code",
   "execution_count": 9,
   "id": "fbf1492f-0756-49b2-a054-80fa9b0e2e23",
   "metadata": {},
   "outputs": [
    {
     "name": "stdout",
     "output_type": "stream",
     "text": [
      "  Name  Age Department  Salary   Bonus\n",
      "1  Bob   27    Finance   54000  5400.0\n",
      "4  Eve   29         HR   47000  4700.0\n"
     ]
    }
   ],
   "source": [
    "age_filtered = df[(df['Age'] >= 25) & (df['Age'] <= 30)]\n",
    "print(age_filtered)"
   ]
  },
  {
   "cell_type": "code",
   "execution_count": null,
   "id": "a4d42467-9250-4fe1-83ea-00a6d2993b99",
   "metadata": {},
   "outputs": [],
   "source": [
    "Explanation:\n",
    "df['Age'] >= 25 checks which employees are 25 or older.\n",
    "df['Age'] <= 30 checks which employees are 30 or younger.\n",
    "We combine both conditions using & (AND operator).\n",
    "The result is a DataFrame with only employees aged between 25 and 30."
   ]
  },
  {
   "cell_type": "markdown",
   "id": "bdf24b10-36c8-4aa3-b9cd-2324964c93c7",
   "metadata": {},
   "source": [
    "4. Group the data by 'Department' and calculate the average salary for each department."
   ]
  },
  {
   "cell_type": "code",
   "execution_count": 10,
   "id": "94a2ac5d-8251-40b9-8074-0bb5e8b7bab4",
   "metadata": {},
   "outputs": [
    {
     "name": "stdout",
     "output_type": "stream",
     "text": [
      "Department\n",
      "Finance      54000.0\n",
      "HR           46000.0\n",
      "IT           50000.0\n",
      "Marketing    62000.0\n",
      "Name: Salary, dtype: float64\n"
     ]
    }
   ],
   "source": [
    "dept_avg_salary = df.groupby('Department')['Salary'].mean()\n",
    "print(dept_avg_salary)"
   ]
  },
  {
   "cell_type": "code",
   "execution_count": null,
   "id": "735de49c-67f3-40b7-9d25-015afd3d76bd",
   "metadata": {},
   "outputs": [],
   "source": [
    "Explanation:\n",
    ".groupby('Department') groups the data by department.\n",
    "['Salary'] selects the Salary column for aggregation.\n",
    ".mean() calculates the average salary per department.\n",
    "The result shows each department along with its average salary."
   ]
  },
  {
   "cell_type": "markdown",
   "id": "41dcdf96-8c74-460d-8271-a75254707884",
   "metadata": {},
   "source": [
    "5. Sort the DataFrame by 'Salary' in ascending order and save the result to a new CSV file."
   ]
  },
  {
   "cell_type": "code",
   "execution_count": 11,
   "id": "26dd6a9e-a330-4ca7-a55a-76f5c0d82aff",
   "metadata": {},
   "outputs": [
    {
     "name": "stdout",
     "output_type": "stream",
     "text": [
      "      Name  Age Department  Salary   Bonus\n",
      "0    Alice   24         HR   45000  4500.0\n",
      "4      Eve   29         HR   47000  4700.0\n",
      "2  Charlie   22         IT   50000  5000.0\n",
      "1      Bob   27    Finance   54000  5400.0\n",
      "3    Diana   32  Marketing   62000  6200.0\n"
     ]
    }
   ],
   "source": [
    "sorted_df = df.sort_values(by='Salary', ascending=True)\n",
    "print(sorted_df)\n",
    "\n",
    "sorted_df.to_csv('sorted_employees.csv', index=False)"
   ]
  },
  {
   "cell_type": "code",
   "execution_count": null,
   "id": "48f647cf-c9b3-43ce-8852-141e5a1b684c",
   "metadata": {},
   "outputs": [],
   "source": [
    "Explanation:\n",
    ".sort_values(by='Salary', ascending=True) sorts the DataFrame by salary in ascending order (lowest to highest).\n",
    "The result is stored in a new DataFrame sorted_df.\n",
    ".to_csv('sorted_employees.csv', index=False) saves the sorted DataFrame to a CSV file.\n",
    "index=False ensures that the row numbers are not saved into the CSV file."
   ]
  },
  {
   "cell_type": "code",
   "execution_count": null,
   "id": "ac4e86d3-d19e-4d13-b81d-6efa5c567b9f",
   "metadata": {},
   "outputs": [],
   "source": []
  },
  {
   "cell_type": "markdown",
   "id": "95b49068-68a0-4b1c-802b-a0648917b234",
   "metadata": {},
   "source": [
    "#Assignment 3 - Working with Matplotlib"
   ]
  },
  {
   "cell_type": "markdown",
   "id": "a0534bf4-1147-43ca-98ca-2c085df19c89",
   "metadata": {},
   "source": [
    "1. Create a simple line plot for the following data:\n",
    "  \n",
    "  x = [1, 2, 3, 4, 5]\n",
    "  y = [10, 15, 25, 30, 50]\n",
    "  \n",
    "  a. Plot the data.\n"
   ]
  },
  {
   "cell_type": "code",
   "execution_count": 12,
   "id": "075c25e1-8dbd-4b3f-bc46-a208863e1e98",
   "metadata": {},
   "outputs": [
    {
     "data": {
      "image/png": "[encoded data removed]",
      "text/plain": [
       "<Figure size 640x480 with 1 Axes>"
      ]
     },
     "metadata": {},
     "output_type": "display_data"
    }
   ],
   "source": [
    "import matplotlib.pyplot as plt\n",
    "x = [1, 2, 3, 4, 5]\n",
    "y = [10, 15, 25, 30, 50]\n",
    "\n",
    "plt.plot(x, y)\n",
    "plt.show()\n"
   ]
  },
  {
   "cell_type": "code",
   "execution_count": null,
   "id": "dc7714f5-b760-45cf-998c-05952f6796a0",
   "metadata": {},
   "outputs": [],
   "source": [
    "Explanation:\n",
    "import matplotlib.pyplot as plt → imports matplotlib’s plotting module.\n",
    "x and y hold the data points.\n",
    "plt.plot(x, y) → creates a simple line plot.\n",
    "plt.show() → displays the plot window."
   ]
  },
  {
   "cell_type": "markdown",
   "id": "6c2f7fe1-5bfe-41fb-9176-37cba776d1aa",
   "metadata": {},
   "source": [
    "b. Customize the plot by adding a title, axis labels, and a grid."
   ]
  },
  {
   "cell_type": "code",
   "execution_count": 13,
   "id": "f7c0d76c-16ff-49a0-b59e-74cedf3df6fc",
   "metadata": {},
   "outputs": [
    {
     "data": {
      "image/png": "[encoded data removed]",
      "text/plain": [
       "<Figure size 640x480 with 1 Axes>"
      ]
     },
     "metadata": {},
     "output_type": "display_data"
    }
   ],
   "source": [
    "import matplotlib.pyplot as plt\n",
    "\n",
    "x = [1, 2, 3, 4, 5]\n",
    "y = [10, 15, 25, 30, 50]\n",
    "\n",
    "plt.plot(x, y)\n",
    "plt.title(\"Simple Line Plot\")\n",
    "plt.xlabel(\"X-axis\")\n",
    "plt.ylabel(\"Y-axis\")\n",
    "plt.grid(True)\n",
    "plt.show()\n"
   ]
  },
  {
   "cell_type": "code",
   "execution_count": null,
   "id": "0e78791e-8491-4f64-83fa-9006b7d5d62c",
   "metadata": {},
   "outputs": [],
   "source": [
    "Explanation:\n",
    "plt.title(\"Simple Line Plot\") → adds a title to the plot.\n",
    "plt.xlabel(\"X-axis\") → labels the x-axis.\n",
    "plt.ylabel(\"Y-axis\") → labels the y-axis.\n",
    "plt.grid(True) → adds a grid to the background for better readability.\n",
    "The rest (plt.plot and plt.show) work as in part (a)."
   ]
  },
  {
   "cell_type": "markdown",
   "id": "8a33ed44-eb8f-439a-92d0-6e6d6741bd98",
   "metadata": {},
   "source": [
    "2. Create a bar graph to represent the marks scored by students in a subject:  \n",
    "  \n",
    "  students = ['John', 'Jane', 'Alice', 'Bob']\n",
    "  marks = [75, 85, 60, 90]\n",
    "  \n",
    "  a. Plot the data as a bar graph.\n"
   ]
  },
  {
   "cell_type": "code",
   "execution_count": 14,
   "id": "1d42dd30-1aa1-48c8-9019-2dc7745b1e11",
   "metadata": {},
   "outputs": [
    {
     "data": {
      "image/png": "[encoded data removed]",
      "text/plain": [
       "<Figure size 640x480 with 1 Axes>"
      ]
     },
     "metadata": {},
     "output_type": "display_data"
    }
   ],
   "source": [
    "import matplotlib.pyplot as plt\n",
    "students = ['John', 'Jane', 'Alice', 'Bob']\n",
    "marks = [75, 85, 60, 90]\n",
    "\n",
    "plt.bar(students, marks)\n",
    "plt.show()\n"
   ]
  },
  {
   "cell_type": "code",
   "execution_count": null,
   "id": "5c799187-38a5-4b3c-8254-66fd22229b09",
   "metadata": {},
   "outputs": [],
   "source": [
    "Explanation:\n",
    "plt.bar(students, marks) → creates a bar graph with students on the x-axis and their marks on the y-axis.\n",
    "plt.show() → displays the bar chart."
   ]
  },
  {
   "cell_type": "markdown",
   "id": "fb7c6b1e-6756-4a8c-b918-2d628b8de775",
   "metadata": {},
   "source": [
    "b. Customize the colors and add a title."
   ]
  },
  {
   "cell_type": "code",
   "execution_count": 15,
   "id": "7957a3f8-63a0-4ef3-b52b-19c1f411cd0d",
   "metadata": {},
   "outputs": [
    {
     "data": {
      "image/png": "[encoded data removed]",
      "text/plain": [
       "<Figure size 640x480 with 1 Axes>"
      ]
     },
     "metadata": {},
     "output_type": "display_data"
    }
   ],
   "source": [
    "import matplotlib.pyplot as plt\n",
    "students = ['John', 'Jane', 'Alice', 'Bob']\n",
    "marks = [75, 85, 60, 90]\n",
    "\n",
    "plt.bar(students, marks, color=['blue', 'green', 'orange', 'red'])\n",
    "plt.title(\"Marks Scored by Students\")\n",
    "plt.xlabel(\"Students\")\n",
    "plt.ylabel(\"Marks\")\n",
    "plt.show()\n"
   ]
  },
  {
   "cell_type": "code",
   "execution_count": null,
   "id": "3798452d-5078-4806-a7fa-0b4a3c6fced1",
   "metadata": {},
   "outputs": [],
   "source": [
    "Explanation:\n",
    "color=['blue', 'green', 'orange', 'red'] → assigns different colors to each bar.\n",
    "plt.title(\"Marks Scored by Students\") → adds a title above the chart.\n",
    "plt.xlabel(\"Students\") and plt.ylabel(\"Marks\") → label the axes for clarity."
   ]
  },
  {
   "cell_type": "markdown",
   "id": "aefd499a-9ccd-40be-b1ca-5ab1361ba244",
   "metadata": {},
   "source": [
    "3. Create a pie chart to represent the percentage distribution of a company’s revenue from different regions:  \n",
    "  \n",
    "  regions = ['North America', 'Europe', 'Asia', 'Others']\n",
    "  revenue = [45, 25, 20, 10]\n",
    "  \n",
    "  a. Create a pie chart with the region names as labels.\n"
   ]
  },
  {
   "cell_type": "code",
   "execution_count": 16,
   "id": "b7354874-ab1b-4b36-beb3-b385ea3c5ac9",
   "metadata": {},
   "outputs": [
    {
     "data": {
      "image/png": "[encoded data removed]",
      "text/plain": [
       "<Figure size 640x480 with 1 Axes>"
      ]
     },
     "metadata": {},
     "output_type": "display_data"
    }
   ],
   "source": [
    "import matplotlib.pyplot as plt\n",
    "regions = ['North America', 'Europe', 'Asia', 'Others']\n",
    "revenue = [45, 25, 20, 10]\n",
    "\n",
    "plt.pie(revenue, labels=regions, autopct='%1.1f%%')\n",
    "plt.show()\n"
   ]
  },
  {
   "cell_type": "code",
   "execution_count": null,
   "id": "091e1572-9d65-4d46-8ffa-a568a390c105",
   "metadata": {},
   "outputs": [],
   "source": [
    "Explanation:\n",
    "plt.pie(revenue, labels=regions) → creates a pie chart with revenue values and assigns region names as labels.\n",
    "autopct='%1.1f%%' → displays percentage values on the chart.\n",
    "plt.show() → shows the chart."
   ]
  },
  {
   "cell_type": "markdown",
   "id": "5b57aa87-c79b-47ca-9211-0946d1b7b6d9",
   "metadata": {},
   "source": [
    "b. Highlight the region with the highest revenue."
   ]
  },
  {
   "cell_type": "code",
   "execution_count": 17,
   "id": "3655beb5-59f1-4533-af0f-7ec4b44a163a",
   "metadata": {},
   "outputs": [
    {
     "data": {
      "image/png": "[encoded data removed]",
      "text/plain": [
       "<Figure size 640x480 with 1 Axes>"
      ]
     },
     "metadata": {},
     "output_type": "display_data"
    }
   ],
   "source": [
    "import matplotlib.pyplot as plt\n",
    "regions = ['North America', 'Europe', 'Asia', 'Others']\n",
    "revenue = [45, 25, 20, 10]\n",
    "\n",
    "explode = [0.1, 0, 0, 0]  \n",
    "plt.pie(revenue, labels=regions, autopct='%1.1f%%', explode=explode, shadow=True)\n",
    "plt.title(\"Revenue Distribution by Region\")\n",
    "plt.show()\n"
   ]
  },
  {
   "cell_type": "code",
   "execution_count": null,
   "id": "3d35af7c-2d65-4e71-9f83-acfa1a6ed44c",
   "metadata": {},
   "outputs": [],
   "source": [
    "Explanation:\n",
    "explode = [0.1, 0, 0, 0] → highlights the first slice (North America, since it has the highest revenue 45) by pulling it out slightly.\n",
    "shadow=True → adds a shadow effect for better visibility.\n",
    "plt.title(\"Revenue Distribution by Region\") → adds a title to the chart."
   ]
  },
  {
   "cell_type": "markdown",
   "id": "6d51edb0-2c73-4fe8-a2d4-478823d691f9",
   "metadata": {},
   "source": [
    "4. Generate a histogram to show the frequency distribution of randomly generated integers between 1 and 100 (sample size = 1000)."
   ]
  },
  {
   "cell_type": "code",
   "execution_count": 18,
   "id": "55fc90b6-8fea-4f3b-9ef5-ad79eeef2a31",
   "metadata": {},
   "outputs": [
    {
     "data": {
      "image/png": "[encoded data removed]",
      "text/plain": [
       "<Figure size 640x480 with 1 Axes>"
      ]
     },
     "metadata": {},
     "output_type": "display_data"
    }
   ],
   "source": [
    "import matplotlib.pyplot as plt\n",
    "import numpy as np\n",
    "\n",
    "data = np.random.randint(1, 101, 1000)\n",
    "\n",
    "plt.hist(data, bins=10, edgecolor='black')\n",
    "plt.title(\"Frequency Distribution of Random Integers (1–100)\")\n",
    "plt.xlabel(\"Value Range\")\n",
    "plt.ylabel(\"Frequency\")\n",
    "plt.show()\n"
   ]
  },
  {
   "cell_type": "code",
   "execution_count": null,
   "id": "bc22dcad-8e1f-4680-a751-7e07ef61a2ea",
   "metadata": {},
   "outputs": [],
   "source": [
    "Explanation:\n",
    "np.random.randint(1, 101, 1000) → generates 1000 random integers between 1 and 100.\n",
    "plt.hist(data, bins=10, edgecolor='black') → creates a histogram with 10 bins (intervals) and black edges around bars.\n",
    "plt.title() → adds a title to the chart.\n",
    "plt.xlabel() and plt.ylabel() → label the axes.\n",
    "plt.show() → displays the histogram."
   ]
  }
 ],
 "metadata": {
  "kernelspec": {
   "display_name": "Python 3 (ipykernel)",
   "language": "python",
   "name": "python3"
  },
  "language_info": {
   "codemirror_mode": {
    "name": "ipython",
    "version": 3
   },
   "file_extension": ".py",
   "mimetype": "text/x-python",
   "name": "python",
   "nbconvert_exporter": "python",
   "pygments_lexer": "ipython3",
   "version": "3.12.7"
  }
 },
 "nbformat": 4,
 "nbformat_minor": 5
}
